{
  "metadata": {
    "kernelspec": {
      "display_name": "Python 3",
      "name": "python3"
    },
    "language_info": {
      "pygments_lexer": "ipython3",
      "nbconvert_exporter": "python",
      "version": "3.6.4",
      "file_extension": ".py",
      "codemirror_mode": {
        "name": "ipython",
        "version": 3
      },
      "name": "python",
      "mimetype": "text/x-python"
    },
    "colab": {
      "provenance": [],
      "gpuType": "T4",
      "include_colab_link": true
    },
    "accelerator": "GPU"
  },
  "nbformat_minor": 0,
  "nbformat": 4,
  "cells": [
    {
      "cell_type": "markdown",
      "metadata": {
        "id": "view-in-github",
        "colab_type": "text"
      },
      "source": [
        "<a href=\"https://colab.research.google.com/github/isa-ulisboa/greends-pml/blob/main/Lesson1_02_saving_a_basic_fastai_model.ipynb\" target=\"_parent\"><img src=\"https://colab.research.google.com/assets/colab-badge.svg\" alt=\"Open In Colab\"/></a>"
      ]
    },
    {
      "cell_type": "markdown",
      "source": [
        "## Saving a Cats v Dogs Model"
      ],
      "metadata": {
        "id": "98d53c05"
      }
    },
    {
      "cell_type": "markdown",
      "source": [
        "This is a minimal example showing how to train a fastai model, and save it so you can use it in your app.\n",
        "\n",
        "mlc: It has been modified to run on Colab"
      ],
      "metadata": {
        "id": "-ynogTarwPna"
      }
    },
    {
      "cell_type": "code",
      "source": [
        "# Colab instead of Kaggle <--------------------------------------------------------------------\n",
        "#hide\n",
        "! [ -e /content ] && pip install -Uqq fastbook\n",
        "import fastbook\n",
        "fastbook.setup_book()\n",
        ""
      ],
      "metadata": {
        "id": "evvA0fqvSblq",
        "_kg_hide-input": true,
        "_kg_hide-output": true,
        "execution": {
          "iopub.status.busy": "2022-05-03T05:51:37.948558Z",
          "iopub.execute_input": "2022-05-03T05:51:37.949032Z",
          "iopub.status.idle": "2022-05-03T05:51:59.531217Z",
          "shell.execute_reply.started": "2022-05-03T05:51:37.948947Z",
          "shell.execute_reply": "2022-05-03T05:51:59.530294Z"
        },
        "trusted": true,
        "colab": {
          "base_uri": "https://localhost:8080/"
        },
        "outputId": "d1c6508f-f8f7-4b75-96b7-ac4d6fffc926"
      },
      "execution_count": 1,
      "outputs": [
        {
          "output_type": "stream",
          "name": "stdout",
          "text": [
            "\u001b[2K     \u001b[90m━━━━━━━━━━━━━━━━━━━━━━━━━━━━━━━━━━━━━━━━\u001b[0m \u001b[32m719.8/719.8 kB\u001b[0m \u001b[31m4.9 MB/s\u001b[0m eta \u001b[36m0:00:00\u001b[0m\n",
            "\u001b[2K     \u001b[90m━━━━━━━━━━━━━━━━━━━━━━━━━━━━━━━━━━━━━━━━\u001b[0m \u001b[32m536.7/536.7 kB\u001b[0m \u001b[31m35.3 MB/s\u001b[0m eta \u001b[36m0:00:00\u001b[0m\n",
            "\u001b[2K     \u001b[90m━━━━━━━━━━━━━━━━━━━━━━━━━━━━━━━━━━━━━━━━\u001b[0m \u001b[32m116.3/116.3 kB\u001b[0m \u001b[31m14.4 MB/s\u001b[0m eta \u001b[36m0:00:00\u001b[0m\n",
            "\u001b[2K     \u001b[90m━━━━━━━━━━━━━━━━━━━━━━━━━━━━━━━━━━━━━━━━\u001b[0m \u001b[32m134.8/134.8 kB\u001b[0m \u001b[31m19.4 MB/s\u001b[0m eta \u001b[36m0:00:00\u001b[0m\n",
            "\u001b[2K     \u001b[90m━━━━━━━━━━━━━━━━━━━━━━━━━━━━━━━━━━━━━━━━\u001b[0m \u001b[32m1.6/1.6 MB\u001b[0m \u001b[31m31.0 MB/s\u001b[0m eta \u001b[36m0:00:00\u001b[0m\n",
            "\u001b[?25hMounted at /content/gdrive\n"
          ]
        }
      ]
    },
    {
      "cell_type": "code",
      "source": [
        "from fastbook import *\n",
        ""
      ],
      "metadata": {
        "id": "vSATOcNpxVIE"
      },
      "execution_count": 2,
      "outputs": []
    },
    {
      "cell_type": "markdown",
      "source": [
        "First, import all the stuff we need from fastai:"
      ],
      "metadata": {
        "id": "_lvHk7zvwPnc"
      }
    },
    {
      "cell_type": "code",
      "source": [
        "from fastai.vision.all import *"
      ],
      "metadata": {
        "id": "44eb0ad3",
        "execution": {
          "iopub.status.busy": "2022-05-03T05:51:59.533878Z",
          "iopub.execute_input": "2022-05-03T05:51:59.534478Z",
          "iopub.status.idle": "2022-05-03T05:52:02.177975Z",
          "shell.execute_reply.started": "2022-05-03T05:51:59.534432Z",
          "shell.execute_reply": "2022-05-03T05:52:02.177267Z"
        },
        "trusted": true
      },
      "execution_count": 3,
      "outputs": []
    },
    {
      "cell_type": "markdown",
      "source": [
        "Download and decompress our dataset, which is pictures of dogs and cats -- see [Oxford-IIIT Pets](https://www.robots.ox.ac.uk/~vgg/data/pets/):"
      ],
      "metadata": {
        "id": "3Ld5iIlmwPnc"
      }
    },
    {
      "cell_type": "code",
      "source": [
        "print(URLs.PETS)\n",
        "path = untar_data(URLs.PETS)/'images'"
      ],
      "metadata": {
        "execution": {
          "iopub.status.busy": "2022-05-03T05:52:02.180192Z",
          "iopub.execute_input": "2022-05-03T05:52:02.180691Z",
          "iopub.status.idle": "2022-05-03T05:53:02.465242Z",
          "shell.execute_reply.started": "2022-05-03T05:52:02.180651Z",
          "shell.execute_reply": "2022-05-03T05:53:02.464516Z"
        },
        "trusted": true,
        "id": "MOTSYAmkwPnd",
        "colab": {
          "base_uri": "https://localhost:8080/",
          "height": 37
        },
        "outputId": "4c0c9c50-2f26-4017-c62e-8460b600b3d8"
      },
      "execution_count": 4,
      "outputs": [
        {
          "output_type": "display_data",
          "data": {
            "text/plain": [
              "<IPython.core.display.HTML object>"
            ],
            "text/html": [
              "\n",
              "<style>\n",
              "    /* Turns off some styling */\n",
              "    progress {\n",
              "        /* gets rid of default border in Firefox and Opera. */\n",
              "        border: none;\n",
              "        /* Needs to be in here for Safari polyfill so background images work as expected. */\n",
              "        background-size: auto;\n",
              "    }\n",
              "    progress:not([value]), progress:not([value])::-webkit-progress-bar {\n",
              "        background: repeating-linear-gradient(45deg, #7e7e7e, #7e7e7e 10px, #5c5c5c 10px, #5c5c5c 20px);\n",
              "    }\n",
              "    .progress-bar-interrupted, .progress-bar-interrupted::-webkit-progress-bar {\n",
              "        background: #F44336;\n",
              "    }\n",
              "</style>\n"
            ]
          },
          "metadata": {}
        },
        {
          "output_type": "display_data",
          "data": {
            "text/plain": [
              "<IPython.core.display.HTML object>"
            ],
            "text/html": [
              "\n",
              "    <div>\n",
              "      <progress value='811712512' class='' max='811706944' style='width:300px; height:20px; vertical-align: middle;'></progress>\n",
              "      100.00% [811712512/811706944 00:13&lt;00:00]\n",
              "    </div>\n",
              "    "
            ]
          },
          "metadata": {}
        }
      ]
    },
    {
      "cell_type": "code",
      "source": [
        "path"
      ],
      "metadata": {
        "colab": {
          "base_uri": "https://localhost:8080/"
        },
        "id": "9IWakokq0TXM",
        "outputId": "5de44e9f-a1d4-4625-e707-19306f9df379"
      },
      "execution_count": 5,
      "outputs": [
        {
          "output_type": "execute_result",
          "data": {
            "text/plain": [
              "Path('/root/.fastai/data/oxford-iiit-pet/images')"
            ]
          },
          "metadata": {},
          "execution_count": 5
        }
      ]
    },
    {
      "cell_type": "markdown",
      "source": [
        "We need a way to label our images as dogs or cats. In this dataset, pictures of cats are given a filename that starts with a capital letter:"
      ],
      "metadata": {
        "id": "pvz6zS7gwPnd"
      }
    },
    {
      "cell_type": "code",
      "source": [
        "def is_cat(x): return x[0].isupper()"
      ],
      "metadata": {
        "execution": {
          "iopub.status.busy": "2022-05-03T05:53:02.467289Z",
          "iopub.execute_input": "2022-05-03T05:53:02.467572Z",
          "iopub.status.idle": "2022-05-03T05:53:02.474701Z",
          "shell.execute_reply.started": "2022-05-03T05:53:02.467536Z",
          "shell.execute_reply": "2022-05-03T05:53:02.474109Z"
        },
        "trusted": true,
        "id": "thmv2gAywPne"
      },
      "execution_count": 6,
      "outputs": []
    },
    {
      "cell_type": "markdown",
      "source": [
        "Now we can create our `DataLoaders`:"
      ],
      "metadata": {
        "id": "qfA9XRiNwPne"
      }
    },
    {
      "cell_type": "code",
      "source": [
        "dls = ImageDataLoaders.from_name_func('.',\n",
        "    get_image_files(path), valid_pct=0.2, seed=42,\n",
        "    label_func=is_cat,\n",
        "    item_tfms=Resize(192))"
      ],
      "metadata": {
        "execution": {
          "iopub.status.busy": "2022-05-03T05:53:02.475754Z",
          "iopub.execute_input": "2022-05-03T05:53:02.476084Z",
          "iopub.status.idle": "2022-05-03T05:53:06.703777Z",
          "shell.execute_reply.started": "2022-05-03T05:53:02.476052Z",
          "shell.execute_reply": "2022-05-03T05:53:06.703023Z"
        },
        "trusted": true,
        "id": "tgkFWW6awPnf"
      },
      "execution_count": 7,
      "outputs": []
    },
    {
      "cell_type": "markdown",
      "source": [
        "... and train our model, a resnet18 (to keep it small and fast):"
      ],
      "metadata": {
        "id": "C002J8pTwPnf"
      }
    },
    {
      "cell_type": "code",
      "source": [
        "learn = vision_learner(dls, resnet18, metrics=error_rate)\n",
        "learn.fine_tune(3)"
      ],
      "metadata": {
        "id": "c107f724",
        "execution": {
          "iopub.status.busy": "2022-05-03T05:53:28.092381Z",
          "iopub.execute_input": "2022-05-03T05:53:28.093059Z"
        },
        "trusted": true,
        "colab": {
          "base_uri": "https://localhost:8080/",
          "height": 262
        },
        "outputId": "d96b3432-a10c-4844-96df-a0064ad42767"
      },
      "execution_count": 8,
      "outputs": [
        {
          "output_type": "stream",
          "name": "stderr",
          "text": [
            "Downloading: \"https://download.pytorch.org/models/resnet18-f37072fd.pth\" to /root/.cache/torch/hub/checkpoints/resnet18-f37072fd.pth\n",
            "100%|██████████| 44.7M/44.7M [00:00<00:00, 136MB/s]\n"
          ]
        },
        {
          "output_type": "display_data",
          "data": {
            "text/plain": [
              "<IPython.core.display.HTML object>"
            ],
            "text/html": [
              "\n",
              "<style>\n",
              "    /* Turns off some styling */\n",
              "    progress {\n",
              "        /* gets rid of default border in Firefox and Opera. */\n",
              "        border: none;\n",
              "        /* Needs to be in here for Safari polyfill so background images work as expected. */\n",
              "        background-size: auto;\n",
              "    }\n",
              "    progress:not([value]), progress:not([value])::-webkit-progress-bar {\n",
              "        background: repeating-linear-gradient(45deg, #7e7e7e, #7e7e7e 10px, #5c5c5c 10px, #5c5c5c 20px);\n",
              "    }\n",
              "    .progress-bar-interrupted, .progress-bar-interrupted::-webkit-progress-bar {\n",
              "        background: #F44336;\n",
              "    }\n",
              "</style>\n"
            ]
          },
          "metadata": {}
        },
        {
          "output_type": "display_data",
          "data": {
            "text/plain": [
              "<IPython.core.display.HTML object>"
            ],
            "text/html": [
              "<table border=\"1\" class=\"dataframe\">\n",
              "  <thead>\n",
              "    <tr style=\"text-align: left;\">\n",
              "      <th>epoch</th>\n",
              "      <th>train_loss</th>\n",
              "      <th>valid_loss</th>\n",
              "      <th>error_rate</th>\n",
              "      <th>time</th>\n",
              "    </tr>\n",
              "  </thead>\n",
              "  <tbody>\n",
              "    <tr>\n",
              "      <td>0</td>\n",
              "      <td>0.198009</td>\n",
              "      <td>0.048518</td>\n",
              "      <td>0.015562</td>\n",
              "      <td>00:45</td>\n",
              "    </tr>\n",
              "  </tbody>\n",
              "</table>"
            ]
          },
          "metadata": {}
        },
        {
          "output_type": "display_data",
          "data": {
            "text/plain": [
              "<IPython.core.display.HTML object>"
            ],
            "text/html": [
              "\n",
              "<style>\n",
              "    /* Turns off some styling */\n",
              "    progress {\n",
              "        /* gets rid of default border in Firefox and Opera. */\n",
              "        border: none;\n",
              "        /* Needs to be in here for Safari polyfill so background images work as expected. */\n",
              "        background-size: auto;\n",
              "    }\n",
              "    progress:not([value]), progress:not([value])::-webkit-progress-bar {\n",
              "        background: repeating-linear-gradient(45deg, #7e7e7e, #7e7e7e 10px, #5c5c5c 10px, #5c5c5c 20px);\n",
              "    }\n",
              "    .progress-bar-interrupted, .progress-bar-interrupted::-webkit-progress-bar {\n",
              "        background: #F44336;\n",
              "    }\n",
              "</style>\n"
            ]
          },
          "metadata": {}
        },
        {
          "output_type": "display_data",
          "data": {
            "text/plain": [
              "<IPython.core.display.HTML object>"
            ],
            "text/html": [
              "<table border=\"1\" class=\"dataframe\">\n",
              "  <thead>\n",
              "    <tr style=\"text-align: left;\">\n",
              "      <th>epoch</th>\n",
              "      <th>train_loss</th>\n",
              "      <th>valid_loss</th>\n",
              "      <th>error_rate</th>\n",
              "      <th>time</th>\n",
              "    </tr>\n",
              "  </thead>\n",
              "  <tbody>\n",
              "    <tr>\n",
              "      <td>0</td>\n",
              "      <td>0.084495</td>\n",
              "      <td>0.083974</td>\n",
              "      <td>0.025034</td>\n",
              "      <td>00:47</td>\n",
              "    </tr>\n",
              "    <tr>\n",
              "      <td>1</td>\n",
              "      <td>0.048543</td>\n",
              "      <td>0.031792</td>\n",
              "      <td>0.009472</td>\n",
              "      <td>00:44</td>\n",
              "    </tr>\n",
              "    <tr>\n",
              "      <td>2</td>\n",
              "      <td>0.021049</td>\n",
              "      <td>0.017279</td>\n",
              "      <td>0.006766</td>\n",
              "      <td>00:44</td>\n",
              "    </tr>\n",
              "  </tbody>\n",
              "</table>"
            ]
          },
          "metadata": {}
        }
      ]
    },
    {
      "cell_type": "markdown",
      "source": [
        "Now we can export our trained `Learner`. Fastai creates a `pickle` file -- see [Python pickle module](https://docs.python.org/3/library/pickle.html) for  serializing and de-serializing a Python object structure. This contains all the information needed to run the model:"
      ],
      "metadata": {
        "id": "VAJaUL9HwPnf"
      }
    },
    {
      "cell_type": "code",
      "source": [
        "learn.export('model.pkl')"
      ],
      "metadata": {
        "id": "ae2bc6ac",
        "trusted": true
      },
      "execution_count": 9,
      "outputs": []
    },
    {
      "cell_type": "markdown",
      "source": [
        "In Colab, the file `model.pkl` will be saved on `/content`. But you can move it to your google drive, or you can adapt the command to save it there:"
      ],
      "metadata": {
        "id": "pYyoPYho5GVo"
      }
    },
    {
      "cell_type": "code",
      "source": [
        "# Create dir if needed\n",
        "path=Path('/content/gdrive/MyDrive/PML_2024/Introduction/02-saving-a-basic-fastai-model')\n",
        "path.mkdir(exist_ok=True, parents=True)"
      ],
      "metadata": {
        "id": "3zn-Xcw1sgZz"
      },
      "execution_count": 11,
      "outputs": []
    },
    {
      "cell_type": "code",
      "source": [
        "learn.export(path/'model.pkl')"
      ],
      "metadata": {
        "trusted": true,
        "id": "MWCU1hVP3EPB"
      },
      "execution_count": 12,
      "outputs": []
    }
  ]
}